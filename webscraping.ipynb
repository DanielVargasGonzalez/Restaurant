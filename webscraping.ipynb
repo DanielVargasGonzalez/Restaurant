{
 "cells": [
  {
   "cell_type": "code",
   "execution_count": 1,
   "metadata": {},
   "outputs": [],
   "source": [
    "import requests\n",
    "from bs4 import BeautifulSoup\n",
    "import re\n",
    "import itertools\n",
    "import pandas as pd\n",
    "import pgeocode"
   ]
  },
  {
   "cell_type": "markdown",
   "metadata": {},
   "source": [
    "# Selecting urls for the web scraping"
   ]
  },
  {
   "cell_type": "code",
   "execution_count": 2,
   "metadata": {},
   "outputs": [],
   "source": [
    "#making a requests.\n",
    "url=\"http://www.laalmanac.com/employment/em12c.php\"\n",
    "r= requests.get(url).text\n",
    "\n",
    "url2=\"http://www.laalmanac.com/economy/ec40b.php\"\n",
    "r2= requests.get(url2).text\n",
    "\n",
    "url3=\"http://www.laalmanac.com/social/so14b.php\"\n",
    "r3= requests.get(url3).text\n",
    "\n",
    "url4=\"http://www.laalmanac.com/communications/cm02a90001-90899.php\"\n",
    "r4= requests.get(url4).text\n",
    "\n",
    "url5=\"http://www.laalmanac.com/communications/cm02a91001-93599.php\"\n",
    "r5= requests.get(url5).text\n",
    "\n",
    "url6=\"https://www.thinkhealthla.org/demographicdata/index/view?id=1585&localeId=6084\"\n",
    "r6= requests.get(url6).text\n",
    "\n",
    "url7=\"https://www.thinkhealthla.org/?module=demographicdata&controller=index&action=view&localeId=6084&localeTypeId=0&tagFilter=0&id=1469\"\n",
    "r7= requests.get(url7).text"
   ]
  },
  {
   "cell_type": "code",
   "execution_count": 3,
   "metadata": {},
   "outputs": [],
   "source": [
    "url8=\"https://www.thinkhealthla.org/?module=demographicdata&controller=index&action=view&localeId=6503&localeTypeId=0&tagFilter=0&id=1470\"\n",
    "r8= requests.get(url8).text\n",
    "\n",
    "url9=\"https://www.thinkhealthla.org/?module=demographicdata&controller=index&action=view&localeId=6503&localeTypeId=0&tagFilter=0&id=2377\"\n",
    "r9= requests.get(url9).text\n",
    "\n",
    "url10=\"https://www.thinkhealthla.org/?module=demographicdata&controller=index&action=view&localeId=6503&localeTypeId=0&tagFilter=0&id=2420\"\n",
    "r10= requests.get(url10).text\n",
    "\n",
    "url11=\"https://www.thinkhealthla.org/?module=demographicdata&controller=index&action=view&localeId=6160&localeTypeId=0&tagFilter=0&id=2771\"\n",
    "r11= requests.get(url11).text\n",
    "\n",
    "url12=\"http://www.laalmanac.com/crime/cr03.php\"\n",
    "r12= requests.get(url12).text"
   ]
  },
  {
   "cell_type": "markdown",
   "metadata": {},
   "source": [
    "## We have to create soup variable to make transform the request to lxml(beautiful soup)"
   ]
  },
  {
   "cell_type": "code",
   "execution_count": 4,
   "metadata": {},
   "outputs": [],
   "source": [
    "#parse the page into beautiful soup format\n",
    "soup = BeautifulSoup(r,\"lxml\")\n",
    "soup2= BeautifulSoup(r2, \"lxml\")\n",
    "soup3= BeautifulSoup(r3, 'lxml')\n",
    "soup4= BeautifulSoup(r4,\"lxml\")\n",
    "soup5= BeautifulSoup(r5, \"lxml\")\n",
    "soup6= BeautifulSoup(r6, \"lxml\")\n",
    "soup7= BeautifulSoup(r7, \"lxml\")"
   ]
  },
  {
   "cell_type": "code",
   "execution_count": 5,
   "metadata": {},
   "outputs": [],
   "source": [
    "soup8= BeautifulSoup(r8, \"lxml\")\n",
    "soup9= BeautifulSoup(r9, \"lxml\")\n",
    "soup10= BeautifulSoup(r10, \"lxml\")\n",
    "soup11= BeautifulSoup(r11, \"lxml\")\n",
    "soup12= BeautifulSoup(r12, \"lxml\")"
   ]
  },
  {
   "cell_type": "markdown",
   "metadata": {},
   "source": [
    "### Let's start with the WS"
   ]
  },
  {
   "cell_type": "code",
   "execution_count": 6,
   "metadata": {},
   "outputs": [],
   "source": [
    "#Create the variable for Postal Codes for the first soup\n",
    "CP=soup.find_all('td')\n",
    "CP=[re.findall(\"^9.*\", e.text) for e in CP]\n",
    "CP=list(itertools.chain(*CP))"
   ]
  },
  {
   "cell_type": "code",
   "execution_count": 7,
   "metadata": {},
   "outputs": [],
   "source": [
    "#Same for income\n",
    "income=soup.find_all('td')\n",
    "income=[re.findall(\"^[$].*\", e.text) for e in income]\n",
    "income=list(itertools.chain(*income))"
   ]
  },
  {
   "cell_type": "code",
   "execution_count": 8,
   "metadata": {},
   "outputs": [],
   "source": [
    "#creating dataframe\n",
    "df= pd.DataFrame({'postalCode': CP, 'Median_Income': income})"
   ]
  },
  {
   "cell_type": "code",
   "execution_count": 9,
   "metadata": {},
   "outputs": [
    {
     "data": {
      "text/html": [
       "<div>\n",
       "<style scoped>\n",
       "    .dataframe tbody tr th:only-of-type {\n",
       "        vertical-align: middle;\n",
       "    }\n",
       "\n",
       "    .dataframe tbody tr th {\n",
       "        vertical-align: top;\n",
       "    }\n",
       "\n",
       "    .dataframe thead th {\n",
       "        text-align: right;\n",
       "    }\n",
       "</style>\n",
       "<table border=\"1\" class=\"dataframe\">\n",
       "  <thead>\n",
       "    <tr style=\"text-align: right;\">\n",
       "      <th></th>\n",
       "      <th>postalCode</th>\n",
       "      <th>Median_Income</th>\n",
       "    </tr>\n",
       "  </thead>\n",
       "  <tbody>\n",
       "    <tr>\n",
       "      <th>0</th>\n",
       "      <td>90001</td>\n",
       "      <td>$35,660</td>\n",
       "    </tr>\n",
       "    <tr>\n",
       "      <th>1</th>\n",
       "      <td>90002</td>\n",
       "      <td>$34,000</td>\n",
       "    </tr>\n",
       "    <tr>\n",
       "      <th>2</th>\n",
       "      <td>90003</td>\n",
       "      <td>$34,397</td>\n",
       "    </tr>\n",
       "    <tr>\n",
       "      <th>3</th>\n",
       "      <td>90004</td>\n",
       "      <td>$46,581</td>\n",
       "    </tr>\n",
       "    <tr>\n",
       "      <th>4</th>\n",
       "      <td>90005</td>\n",
       "      <td>$32,461</td>\n",
       "    </tr>\n",
       "  </tbody>\n",
       "</table>\n",
       "</div>"
      ],
      "text/plain": [
       "  postalCode Median_Income\n",
       "0      90001       $35,660\n",
       "1      90002       $34,000\n",
       "2      90003       $34,397\n",
       "3      90004       $46,581\n",
       "4      90005       $32,461"
      ]
     },
     "execution_count": 9,
     "metadata": {},
     "output_type": "execute_result"
    }
   ],
   "source": [
    "df.head()"
   ]
  },
  {
   "cell_type": "markdown",
   "metadata": {},
   "source": [
    "### 2º scraping"
   ]
  },
  {
   "cell_type": "code",
   "execution_count": 10,
   "metadata": {},
   "outputs": [],
   "source": [
    "#Create the variable for Postal Codes for the soup2\n",
    "CP2=soup2.find_all('td')\n",
    "CP2=[re.findall(\"^9.*\", e.text) for e in CP2]\n",
    "CP2=list(itertools.chain(*CP2))"
   ]
  },
  {
   "cell_type": "code",
   "execution_count": 11,
   "metadata": {},
   "outputs": [],
   "source": [
    "#Same for median rent price and the N/A string\n",
    "rent=soup2.find_all('td')\n",
    "renta=[re.findall(\"^[$].*\", e.text) for e in rent]\n",
    "rentna=[re.findall(\"N/A\", e.text) for e in rent]"
   ]
  },
  {
   "cell_type": "code",
   "execution_count": 12,
   "metadata": {},
   "outputs": [],
   "source": [
    "#creating df\n",
    "narent=pd.DataFrame({'renta':renta, 'na':rentna})"
   ]
  },
  {
   "cell_type": "code",
   "execution_count": 13,
   "metadata": {},
   "outputs": [],
   "source": [
    "#sum renta and na\n",
    "narent['renta']= narent[\"renta\"] + narent[\"na\"]"
   ]
  },
  {
   "cell_type": "code",
   "execution_count": 14,
   "metadata": {},
   "outputs": [],
   "source": [
    "#and make the colum a list\n",
    "rentaf= narent['renta'].tolist()"
   ]
  },
  {
   "cell_type": "code",
   "execution_count": 15,
   "metadata": {},
   "outputs": [],
   "source": [
    "#list of list to list\n",
    "rentaf=list(itertools.chain(*rentaf))"
   ]
  },
  {
   "cell_type": "code",
   "execution_count": 16,
   "metadata": {},
   "outputs": [],
   "source": [
    "#this function make a loop inside a variable to group the column values  \n",
    "def price(rent):\n",
    "    price=[]\n",
    "    count=int(input(\"introduce el valor de count :\"))\n",
    "    for e in rent:\n",
    "        try:\n",
    "            price.append(rent[count])\n",
    "            \n",
    "        except:\n",
    "            continue\n",
    "        count=count+6\n",
    "    return price"
   ]
  },
  {
   "cell_type": "markdown",
   "metadata": {},
   "source": [
    "use the function to get the prices column values"
   ]
  },
  {
   "cell_type": "code",
   "execution_count": 17,
   "metadata": {},
   "outputs": [
    {
     "name": "stdout",
     "output_type": "stream",
     "text": [
      "introduce el valor de count :1\n"
     ]
    }
   ],
   "source": [
    "#valor 1\n",
    "prices=price(rentaf)"
   ]
  },
  {
   "cell_type": "code",
   "execution_count": 18,
   "metadata": {},
   "outputs": [],
   "source": [
    "#creating a df with CP2 and prices\n",
    "df2= pd.DataFrame({'postalCode': CP2, 'rental price': prices})"
   ]
  },
  {
   "cell_type": "code",
   "execution_count": 19,
   "metadata": {},
   "outputs": [
    {
     "data": {
      "text/html": [
       "<div>\n",
       "<style scoped>\n",
       "    .dataframe tbody tr th:only-of-type {\n",
       "        vertical-align: middle;\n",
       "    }\n",
       "\n",
       "    .dataframe tbody tr th {\n",
       "        vertical-align: top;\n",
       "    }\n",
       "\n",
       "    .dataframe thead th {\n",
       "        text-align: right;\n",
       "    }\n",
       "</style>\n",
       "<table border=\"1\" class=\"dataframe\">\n",
       "  <thead>\n",
       "    <tr style=\"text-align: right;\">\n",
       "      <th></th>\n",
       "      <th>postalCode</th>\n",
       "      <th>rental price</th>\n",
       "    </tr>\n",
       "  </thead>\n",
       "  <tbody>\n",
       "    <tr>\n",
       "      <th>0</th>\n",
       "      <td>90001</td>\n",
       "      <td>$2,347</td>\n",
       "    </tr>\n",
       "    <tr>\n",
       "      <th>1</th>\n",
       "      <td>90002</td>\n",
       "      <td>$2,312</td>\n",
       "    </tr>\n",
       "    <tr>\n",
       "      <th>2</th>\n",
       "      <td>90003</td>\n",
       "      <td>$2,282</td>\n",
       "    </tr>\n",
       "    <tr>\n",
       "      <th>3</th>\n",
       "      <td>90004</td>\n",
       "      <td>$2,899</td>\n",
       "    </tr>\n",
       "    <tr>\n",
       "      <th>4</th>\n",
       "      <td>90005</td>\n",
       "      <td>$2,840</td>\n",
       "    </tr>\n",
       "  </tbody>\n",
       "</table>\n",
       "</div>"
      ],
      "text/plain": [
       "  postalCode rental price\n",
       "0      90001       $2,347\n",
       "1      90002       $2,312\n",
       "2      90003       $2,282\n",
       "3      90004       $2,899\n",
       "4      90005       $2,840"
      ]
     },
     "execution_count": 19,
     "metadata": {},
     "output_type": "execute_result"
    }
   ],
   "source": [
    "df2.head()"
   ]
  },
  {
   "cell_type": "markdown",
   "metadata": {},
   "source": [
    "### scraping 3"
   ]
  },
  {
   "cell_type": "code",
   "execution_count": 20,
   "metadata": {},
   "outputs": [],
   "source": [
    "#same here but with soup3\n",
    "vagatitle=soup3.find_all('th')\n",
    "vagatitle=[re.findall(\"^\\w.*\", e.text) for e in vagatitle]\n",
    "vagatitle=list(itertools.chain(*vagatitle))"
   ]
  },
  {
   "cell_type": "code",
   "execution_count": 21,
   "metadata": {},
   "outputs": [],
   "source": [
    "#we select just what we need\n",
    "vagatitle= vagatitle[0:6]"
   ]
  },
  {
   "cell_type": "code",
   "execution_count": 22,
   "metadata": {},
   "outputs": [],
   "source": [
    "#repeating but for number of homeless\n",
    "vaganum= soup3.find_all('td')\n",
    "vaganum= [re.findall(\"^.*\", e.text) for e in vaganum]\n",
    "vaganum= list(itertools.chain(*vaganum))"
   ]
  },
  {
   "cell_type": "code",
   "execution_count": 23,
   "metadata": {},
   "outputs": [],
   "source": [
    "#fixing an error in the web, they miss Palos Verdes name\n",
    "vaganum.insert(354, 'Palos Verdes')"
   ]
  },
  {
   "cell_type": "markdown",
   "metadata": {},
   "source": [
    "### from here we have to call the function price to select the values for every column, and please select the value commented for the input"
   ]
  },
  {
   "cell_type": "code",
   "execution_count": 24,
   "metadata": {},
   "outputs": [
    {
     "name": "stdout",
     "output_type": "stream",
     "text": [
      "introduce el valor de count :0\n"
     ]
    }
   ],
   "source": [
    "#valor 0\n",
    "cities= price(vaganum)"
   ]
  },
  {
   "cell_type": "code",
   "execution_count": 25,
   "metadata": {},
   "outputs": [
    {
     "name": "stdout",
     "output_type": "stream",
     "text": [
      "introduce el valor de count :2\n"
     ]
    }
   ],
   "source": [
    "#valor 2\n",
    "person18=price(vaganum)"
   ]
  },
  {
   "cell_type": "code",
   "execution_count": 26,
   "metadata": {},
   "outputs": [
    {
     "name": "stdout",
     "output_type": "stream",
     "text": [
      "introduce el valor de count :3\n"
     ]
    }
   ],
   "source": [
    "#valor 3\n",
    "person19=price(vaganum)"
   ]
  },
  {
   "cell_type": "code",
   "execution_count": 27,
   "metadata": {},
   "outputs": [
    {
     "name": "stdout",
     "output_type": "stream",
     "text": [
      "introduce el valor de count :5\n"
     ]
    }
   ],
   "source": [
    "#valor 5\n",
    "permahouse=price(vaganum)"
   ]
  },
  {
   "cell_type": "code",
   "execution_count": 28,
   "metadata": {},
   "outputs": [],
   "source": [
    "#creating a DF\n",
    "df3= pd.DataFrame({'city': cities,'persons counted 2018': person18, 'persons counted 2019': person19,'persons in perma housing':permahouse})"
   ]
  },
  {
   "cell_type": "code",
   "execution_count": 29,
   "metadata": {},
   "outputs": [
    {
     "data": {
      "text/html": [
       "<div>\n",
       "<style scoped>\n",
       "    .dataframe tbody tr th:only-of-type {\n",
       "        vertical-align: middle;\n",
       "    }\n",
       "\n",
       "    .dataframe tbody tr th {\n",
       "        vertical-align: top;\n",
       "    }\n",
       "\n",
       "    .dataframe thead th {\n",
       "        text-align: right;\n",
       "    }\n",
       "</style>\n",
       "<table border=\"1\" class=\"dataframe\">\n",
       "  <thead>\n",
       "    <tr style=\"text-align: right;\">\n",
       "      <th></th>\n",
       "      <th>city</th>\n",
       "      <th>persons counted 2018</th>\n",
       "      <th>persons counted 2019</th>\n",
       "      <th>persons in perma housing</th>\n",
       "    </tr>\n",
       "  </thead>\n",
       "  <tbody>\n",
       "    <tr>\n",
       "      <th>0</th>\n",
       "      <td>Los Angeles County</td>\n",
       "      <td>52,765</td>\n",
       "      <td>58,936</td>\n",
       "      <td>11,914</td>\n",
       "    </tr>\n",
       "    <tr>\n",
       "      <th>1</th>\n",
       "      <td>Agoura Hills</td>\n",
       "      <td>2</td>\n",
       "      <td>-</td>\n",
       "      <td>4</td>\n",
       "    </tr>\n",
       "    <tr>\n",
       "      <th>2</th>\n",
       "      <td>Alhambra</td>\n",
       "      <td>52</td>\n",
       "      <td>68</td>\n",
       "      <td>39</td>\n",
       "    </tr>\n",
       "    <tr>\n",
       "      <th>3</th>\n",
       "      <td>Arcadia</td>\n",
       "      <td>15</td>\n",
       "      <td>77</td>\n",
       "      <td>3</td>\n",
       "    </tr>\n",
       "    <tr>\n",
       "      <th>4</th>\n",
       "      <td>Artesia</td>\n",
       "      <td>16</td>\n",
       "      <td>24</td>\n",
       "      <td>8</td>\n",
       "    </tr>\n",
       "  </tbody>\n",
       "</table>\n",
       "</div>"
      ],
      "text/plain": [
       "                 city persons counted 2018 persons counted 2019  \\\n",
       "0  Los Angeles County               52,765               58,936   \n",
       "1        Agoura Hills                    2                    -   \n",
       "2            Alhambra                   52                   68   \n",
       "3             Arcadia                   15                   77   \n",
       "4             Artesia                   16                   24   \n",
       "\n",
       "  persons in perma housing  \n",
       "0                   11,914  \n",
       "1                        4  \n",
       "2                       39  \n",
       "3                        3  \n",
       "4                        8  "
      ]
     },
     "execution_count": 29,
     "metadata": {},
     "output_type": "execute_result"
    }
   ],
   "source": [
    "#here it is\n",
    "df3.head()"
   ]
  },
  {
   "cell_type": "markdown",
   "metadata": {},
   "source": [
    "### scraping 4"
   ]
  },
  {
   "cell_type": "code",
   "execution_count": 30,
   "metadata": {},
   "outputs": [],
   "source": [
    "#selecting CP for soup4\n",
    "CP3=soup4.find_all('td')\n",
    "CP3=[re.findall(\"^9.*\", e.text) for e in CP3]\n",
    "CP3=list(itertools.chain(*CP3))"
   ]
  },
  {
   "cell_type": "code",
   "execution_count": 31,
   "metadata": {},
   "outputs": [],
   "source": [
    "#selecting cities for soup 4\n",
    "city3=soup4.find_all('td')\n",
    "city3=[re.findall(\"^\\D.*\", e.text) for e in city3]\n",
    "city3=list(itertools.chain(*city3))"
   ]
  },
  {
   "cell_type": "code",
   "execution_count": 32,
   "metadata": {},
   "outputs": [],
   "source": [
    "#creating df4 part 1\n",
    "df4_1= pd.DataFrame({'postalCode': CP3,'city': city3})"
   ]
  },
  {
   "cell_type": "markdown",
   "metadata": {},
   "source": [
    "### web scraping 5"
   ]
  },
  {
   "cell_type": "code",
   "execution_count": 33,
   "metadata": {},
   "outputs": [],
   "source": [
    "#getting cities for soup5\n",
    "city4=soup5.find_all('td')\n",
    "city4=[re.findall(\"^\\D.*\", e.text) for e in city4]\n",
    "city4=list(itertools.chain(*city4))"
   ]
  },
  {
   "cell_type": "code",
   "execution_count": 34,
   "metadata": {},
   "outputs": [],
   "source": [
    "#getting CP for soup 5\n",
    "CP4=soup5.find_all('td')\n",
    "CP4=[re.findall(\"^9.*\", e.text) for e in CP4]\n",
    "CP4=list(itertools.chain(*CP4))"
   ]
  },
  {
   "cell_type": "code",
   "execution_count": 35,
   "metadata": {},
   "outputs": [],
   "source": [
    "#creating a df4 part 2\n",
    "df4_2= pd.DataFrame({'postalCode': CP4,'city': city4})"
   ]
  },
  {
   "cell_type": "code",
   "execution_count": 36,
   "metadata": {},
   "outputs": [],
   "source": [
    "#we have to concat part 1 and part 2 to make df4\n",
    "df4 = pd.concat([df4_1,df4_2])"
   ]
  },
  {
   "cell_type": "code",
   "execution_count": 37,
   "metadata": {},
   "outputs": [],
   "source": [
    "# We start with creating a new dataframe from the series with postalCode as the index\n",
    "df4 = pd.DataFrame(df4.city.str.split(',').tolist(), index=df4.postalCode).stack()"
   ]
  },
  {
   "cell_type": "code",
   "execution_count": 38,
   "metadata": {},
   "outputs": [],
   "source": [
    "# We now want to get rid of the secondary index\n",
    "# To do this, we will make postalCode as a column (it can't be an index since the values will be duplicate)\n",
    "df4 = df4.reset_index([0, 'postalCode'])"
   ]
  },
  {
   "cell_type": "code",
   "execution_count": 39,
   "metadata": {},
   "outputs": [],
   "source": [
    "# The final step is to set the column names as we want them\n",
    "df4.columns = ['postalCode', 'city',]"
   ]
  },
  {
   "cell_type": "markdown",
   "metadata": {},
   "source": [
    "### From here we have to merge every df into just 1 df"
   ]
  },
  {
   "cell_type": "code",
   "execution_count": 40,
   "metadata": {},
   "outputs": [],
   "source": [
    "#merging df1 and df2 into dffinal by zip\n",
    "dffinal= df.merge(df2, on= \"postalCode\")"
   ]
  },
  {
   "cell_type": "code",
   "execution_count": 41,
   "metadata": {},
   "outputs": [],
   "source": [
    "#adding df4 to dffinal by zip\n",
    "dffinal= dffinal.merge(df4, on=\"postalCode\")"
   ]
  },
  {
   "cell_type": "code",
   "execution_count": 42,
   "metadata": {},
   "outputs": [],
   "source": [
    "#cleaning city names to merge later by city\n",
    "dffinal['city']= dffinal['city'].str.replace('\\(.*', '', regex=True)"
   ]
  },
  {
   "cell_type": "code",
   "execution_count": 43,
   "metadata": {},
   "outputs": [],
   "source": [
    "dffinal['city']= dffinal['city'].str.replace('\\)', '', regex=True)"
   ]
  },
  {
   "cell_type": "code",
   "execution_count": 44,
   "metadata": {},
   "outputs": [],
   "source": [
    "#adding df3 to dffinal into a new df called dfinitivo\n",
    "dfinitivo= dffinal.merge(df3, on= \"city\")"
   ]
  },
  {
   "cell_type": "code",
   "execution_count": 45,
   "metadata": {},
   "outputs": [
    {
     "data": {
      "text/html": [
       "<div>\n",
       "<style scoped>\n",
       "    .dataframe tbody tr th:only-of-type {\n",
       "        vertical-align: middle;\n",
       "    }\n",
       "\n",
       "    .dataframe tbody tr th {\n",
       "        vertical-align: top;\n",
       "    }\n",
       "\n",
       "    .dataframe thead th {\n",
       "        text-align: right;\n",
       "    }\n",
       "</style>\n",
       "<table border=\"1\" class=\"dataframe\">\n",
       "  <thead>\n",
       "    <tr style=\"text-align: right;\">\n",
       "      <th></th>\n",
       "      <th>postalCode</th>\n",
       "      <th>Median_Income</th>\n",
       "      <th>rental price</th>\n",
       "      <th>city</th>\n",
       "      <th>persons counted 2018</th>\n",
       "      <th>persons counted 2019</th>\n",
       "      <th>persons in perma housing</th>\n",
       "    </tr>\n",
       "  </thead>\n",
       "  <tbody>\n",
       "    <tr>\n",
       "      <th>0</th>\n",
       "      <td>90023</td>\n",
       "      <td>$40,225</td>\n",
       "      <td>$2,201</td>\n",
       "      <td>Commerce</td>\n",
       "      <td>490</td>\n",
       "      <td>295</td>\n",
       "      <td>17</td>\n",
       "    </tr>\n",
       "    <tr>\n",
       "      <th>1</th>\n",
       "      <td>90040</td>\n",
       "      <td>$43,585</td>\n",
       "      <td>$2,317</td>\n",
       "      <td>Commerce</td>\n",
       "      <td>490</td>\n",
       "      <td>295</td>\n",
       "      <td>17</td>\n",
       "    </tr>\n",
       "    <tr>\n",
       "      <th>2</th>\n",
       "      <td>90066</td>\n",
       "      <td>$75,209</td>\n",
       "      <td>$3,403</td>\n",
       "      <td>Culver City</td>\n",
       "      <td>117</td>\n",
       "      <td>236</td>\n",
       "      <td>69</td>\n",
       "    </tr>\n",
       "    <tr>\n",
       "      <th>3</th>\n",
       "      <td>90230</td>\n",
       "      <td>$79,242</td>\n",
       "      <td>$3,630</td>\n",
       "      <td>Culver City</td>\n",
       "      <td>117</td>\n",
       "      <td>236</td>\n",
       "      <td>69</td>\n",
       "    </tr>\n",
       "    <tr>\n",
       "      <th>4</th>\n",
       "      <td>90232</td>\n",
       "      <td>$82,254</td>\n",
       "      <td>$3,472</td>\n",
       "      <td>Culver City</td>\n",
       "      <td>117</td>\n",
       "      <td>236</td>\n",
       "      <td>69</td>\n",
       "    </tr>\n",
       "  </tbody>\n",
       "</table>\n",
       "</div>"
      ],
      "text/plain": [
       "  postalCode Median_Income rental price         city persons counted 2018  \\\n",
       "0      90023       $40,225       $2,201     Commerce                  490   \n",
       "1      90040       $43,585       $2,317     Commerce                  490   \n",
       "2      90066       $75,209       $3,403  Culver City                  117   \n",
       "3      90230       $79,242       $3,630  Culver City                  117   \n",
       "4      90232       $82,254       $3,472  Culver City                  117   \n",
       "\n",
       "  persons counted 2019 persons in perma housing  \n",
       "0                  295                       17  \n",
       "1                  295                       17  \n",
       "2                  236                       69  \n",
       "3                  236                       69  \n",
       "4                  236                       69  "
      ]
     },
     "execution_count": 45,
     "metadata": {},
     "output_type": "execute_result"
    }
   ],
   "source": [
    "#and here it is, a single df with all the info scraped\n",
    "dfinitivo.head()"
   ]
  },
  {
   "cell_type": "code",
   "execution_count": 46,
   "metadata": {},
   "outputs": [],
   "source": [
    "#make a list of zip codes\n",
    "zipcode= dfinitivo['postalCode'].to_list()"
   ]
  },
  {
   "cell_type": "code",
   "execution_count": 47,
   "metadata": {},
   "outputs": [],
   "source": [
    "#to fix a verify error\n",
    "import os, ssl\n",
    "if (not os.environ.get('PYTHONHTTPSVERIFY', '') and\n",
    "getattr(ssl, '_create_unverified_context', None)):\n",
    "    ssl._create_default_https_context = ssl._create_unverified_context"
   ]
  },
  {
   "cell_type": "code",
   "execution_count": 48,
   "metadata": {},
   "outputs": [],
   "source": [
    "# to get coordinates\n",
    "nomi = pgeocode.Nominatim('us')\n",
    "coordenadas1= nomi.query_postal_code(zipcode)"
   ]
  },
  {
   "cell_type": "code",
   "execution_count": 49,
   "metadata": {},
   "outputs": [],
   "source": [
    "coordenadas1=coordenadas1[['postal_code','latitude','longitude']]\n",
    "coordenadas1.rename(columns={'postal_code':'postalCode'}, inplace=True)"
   ]
  },
  {
   "cell_type": "code",
   "execution_count": 50,
   "metadata": {},
   "outputs": [],
   "source": [
    "# merge\n",
    "dfinitivo= dfinitivo.merge(coordenadas1, on= 'postalCode')"
   ]
  },
  {
   "cell_type": "markdown",
   "metadata": {},
   "source": [
    "### web scraping 6"
   ]
  },
  {
   "cell_type": "code",
   "execution_count": 51,
   "metadata": {},
   "outputs": [],
   "source": [
    "#Create the variable for Postal Codes\n",
    "CPage= soup6.find_all(\"td\")\n",
    "CPage=[re.findall(\"^9.*\", e.text) for e in CPage]\n",
    "CPage=list(itertools.chain(*CPage))"
   ]
  },
  {
   "cell_type": "code",
   "execution_count": 52,
   "metadata": {},
   "outputs": [],
   "source": [
    "#Create the variable for Postal Codes\n",
    "age= soup6.find_all(\"td\")\n",
    "age=[re.findall(\"^\\d\\d\\.\\d\", e.text) for e in age]\n",
    "age=list(itertools.chain(*age))\n",
    "age=age[2:]"
   ]
  },
  {
   "cell_type": "code",
   "execution_count": 53,
   "metadata": {},
   "outputs": [],
   "source": [
    "dfage=pd.DataFrame({\"postalCode\":CPage, \"Median Age\":age})"
   ]
  },
  {
   "cell_type": "code",
   "execution_count": 54,
   "metadata": {},
   "outputs": [],
   "source": [
    "dfinitivo= dfinitivo.merge(dfage, on= 'postalCode')"
   ]
  },
  {
   "cell_type": "markdown",
   "metadata": {},
   "source": [
    "### web scraping 7"
   ]
  },
  {
   "cell_type": "code",
   "execution_count": 55,
   "metadata": {},
   "outputs": [],
   "source": [
    "CPpopu= soup7.find_all(\"td\")\n",
    "CPpopu=[re.findall(\"^9\\d\\d\\d\\d\", e.text) for e in CPpopu]\n",
    "CPpopu=list(itertools.chain(*CPpopu))"
   ]
  },
  {
   "cell_type": "code",
   "execution_count": 56,
   "metadata": {},
   "outputs": [],
   "source": [
    "population= soup7.find_all(\"td\",class_=\"isum-table-value-value\")\n",
    "population=[re.findall(\"^\\d.*\\d\", e.text) for e in population]\n",
    "population=list(itertools.chain(*population))\n",
    "population=population[2:]\n",
    "population.insert(60, '2')\n",
    "population.insert(64, '4')\n",
    "population.insert(232, '4')"
   ]
  },
  {
   "cell_type": "code",
   "execution_count": 57,
   "metadata": {},
   "outputs": [],
   "source": [
    "dfpopulation=pd.DataFrame({\"postalCode\":CPage, \"Population\":population})"
   ]
  },
  {
   "cell_type": "code",
   "execution_count": 58,
   "metadata": {},
   "outputs": [],
   "source": [
    "dfinitivo= dfinitivo.merge(dfpopulation, on= 'postalCode')"
   ]
  },
  {
   "cell_type": "markdown",
   "metadata": {},
   "source": [
    "### web scraping 8"
   ]
  },
  {
   "cell_type": "code",
   "execution_count": 59,
   "metadata": {},
   "outputs": [],
   "source": [
    "household= soup8.find_all(\"td\",class_=\"isum-table-value-value\")\n",
    "household=[re.findall(\"^\\d.*\\d\", e.text) for e in household]\n",
    "household=list(itertools.chain(*household))\n",
    "household=household[2:]\n",
    "household.insert(60, '0')\n",
    "household.insert(64, '0')\n",
    "household.insert(232, '2')"
   ]
  },
  {
   "cell_type": "code",
   "execution_count": 60,
   "metadata": {},
   "outputs": [],
   "source": [
    "dfhousehold=pd.DataFrame({\"postalCode\":CPage, \"Household\":household})"
   ]
  },
  {
   "cell_type": "code",
   "execution_count": 61,
   "metadata": {},
   "outputs": [],
   "source": [
    "dfinitivo= dfinitivo.merge(dfhousehold, on= 'postalCode')"
   ]
  },
  {
   "cell_type": "markdown",
   "metadata": {},
   "source": [
    "### web scraping 9"
   ]
  },
  {
   "cell_type": "code",
   "execution_count": 62,
   "metadata": {},
   "outputs": [],
   "source": [
    "mlr= soup9.find_all(\"td\",class_=\"isum-table-value-value\")\n",
    "mlr=[re.findall(\"^\\d.*\\d\", e.text) for e in mlr]\n",
    "mlr=list(itertools.chain(*mlr))\n",
    "mlr=mlr[2:]"
   ]
  },
  {
   "cell_type": "code",
   "execution_count": 63,
   "metadata": {},
   "outputs": [],
   "source": [
    "dfmlr=pd.DataFrame({\"postalCode\":CPage, \"median lengh of residence\":mlr})"
   ]
  },
  {
   "cell_type": "code",
   "execution_count": 64,
   "metadata": {},
   "outputs": [],
   "source": [
    "dfinitivo= dfinitivo.merge(dfmlr, on= 'postalCode')"
   ]
  },
  {
   "cell_type": "markdown",
   "metadata": {},
   "source": [
    "### web scraping 10"
   ]
  },
  {
   "cell_type": "code",
   "execution_count": 65,
   "metadata": {},
   "outputs": [],
   "source": [
    "houseincome= soup10.find_all(\"td\",class_=\"isum-table-value-value\")\n",
    "houseincome=[re.findall(\"\\d.*\\d\", e.text) for e in houseincome]\n",
    "houseincome=list(itertools.chain(*houseincome))\n",
    "houseincome=houseincome[2:]\n",
    "houseincome.insert(60, '0')\n",
    "houseincome.insert(64, '0')"
   ]
  },
  {
   "cell_type": "code",
   "execution_count": 66,
   "metadata": {},
   "outputs": [],
   "source": [
    "dfhic=pd.DataFrame({\"postalCode\":CPage, \"average house income\":houseincome})"
   ]
  },
  {
   "cell_type": "code",
   "execution_count": 67,
   "metadata": {},
   "outputs": [],
   "source": [
    "dfinitivo= dfinitivo.merge(dfhic, on= 'postalCode')"
   ]
  },
  {
   "cell_type": "markdown",
   "metadata": {},
   "source": [
    "### web scraping 11"
   ]
  },
  {
   "cell_type": "code",
   "execution_count": 68,
   "metadata": {},
   "outputs": [],
   "source": [
    "unemployed= soup11.find_all(\"td\",class_=\"isum-table-value-value\")\n",
    "unemployed=[re.findall(\"\\d.*\\d\", e.text) for e in unemployed]\n",
    "unemployed=list(itertools.chain(*unemployed))\n",
    "unemployed=unemployed[2:]"
   ]
  },
  {
   "cell_type": "code",
   "execution_count": 69,
   "metadata": {},
   "outputs": [],
   "source": [
    "dfunemployed=pd.DataFrame({\"postalCode\":CPage, \"Unemployed %\":unemployed})"
   ]
  },
  {
   "cell_type": "code",
   "execution_count": 70,
   "metadata": {},
   "outputs": [],
   "source": [
    "dfinitivo= dfinitivo.merge(dfunemployed, on= 'postalCode')"
   ]
  },
  {
   "cell_type": "code",
   "execution_count": 71,
   "metadata": {},
   "outputs": [
    {
     "data": {
      "text/html": [
       "<div>\n",
       "<style scoped>\n",
       "    .dataframe tbody tr th:only-of-type {\n",
       "        vertical-align: middle;\n",
       "    }\n",
       "\n",
       "    .dataframe tbody tr th {\n",
       "        vertical-align: top;\n",
       "    }\n",
       "\n",
       "    .dataframe thead th {\n",
       "        text-align: right;\n",
       "    }\n",
       "</style>\n",
       "<table border=\"1\" class=\"dataframe\">\n",
       "  <thead>\n",
       "    <tr style=\"text-align: right;\">\n",
       "      <th></th>\n",
       "      <th>postalCode</th>\n",
       "      <th>Median_Income</th>\n",
       "      <th>rental price</th>\n",
       "      <th>city</th>\n",
       "      <th>persons counted 2018</th>\n",
       "      <th>persons counted 2019</th>\n",
       "      <th>persons in perma housing</th>\n",
       "      <th>latitude</th>\n",
       "      <th>longitude</th>\n",
       "      <th>Median Age</th>\n",
       "      <th>Population</th>\n",
       "      <th>Household</th>\n",
       "      <th>median lengh of residence</th>\n",
       "      <th>average house income</th>\n",
       "      <th>Unemployed %</th>\n",
       "    </tr>\n",
       "  </thead>\n",
       "  <tbody>\n",
       "    <tr>\n",
       "      <th>0</th>\n",
       "      <td>90023</td>\n",
       "      <td>$40,225</td>\n",
       "      <td>$2,201</td>\n",
       "      <td>Commerce</td>\n",
       "      <td>490</td>\n",
       "      <td>295</td>\n",
       "      <td>17</td>\n",
       "      <td>34.0245</td>\n",
       "      <td>-118.1975</td>\n",
       "      <td>31.4</td>\n",
       "      <td>46,455</td>\n",
       "      <td>10,966</td>\n",
       "      <td>8.0</td>\n",
       "      <td>59,679</td>\n",
       "      <td>6.84</td>\n",
       "    </tr>\n",
       "    <tr>\n",
       "      <th>1</th>\n",
       "      <td>90040</td>\n",
       "      <td>$43,585</td>\n",
       "      <td>$2,317</td>\n",
       "      <td>Commerce</td>\n",
       "      <td>490</td>\n",
       "      <td>295</td>\n",
       "      <td>17</td>\n",
       "      <td>33.9909</td>\n",
       "      <td>-118.1532</td>\n",
       "      <td>33.2</td>\n",
       "      <td>14,121</td>\n",
       "      <td>3,605</td>\n",
       "      <td>10.0</td>\n",
       "      <td>63,661</td>\n",
       "      <td>9.51</td>\n",
       "    </tr>\n",
       "    <tr>\n",
       "      <th>2</th>\n",
       "      <td>90066</td>\n",
       "      <td>$75,209</td>\n",
       "      <td>$3,403</td>\n",
       "      <td>Culver City</td>\n",
       "      <td>117</td>\n",
       "      <td>236</td>\n",
       "      <td>69</td>\n",
       "      <td>34.0030</td>\n",
       "      <td>-118.4298</td>\n",
       "      <td>41.1</td>\n",
       "      <td>55,775</td>\n",
       "      <td>24,339</td>\n",
       "      <td>7.3</td>\n",
       "      <td>127,240</td>\n",
       "      <td>5.31</td>\n",
       "    </tr>\n",
       "    <tr>\n",
       "      <th>3</th>\n",
       "      <td>90230</td>\n",
       "      <td>$79,242</td>\n",
       "      <td>$3,630</td>\n",
       "      <td>Culver City</td>\n",
       "      <td>117</td>\n",
       "      <td>236</td>\n",
       "      <td>69</td>\n",
       "      <td>33.9949</td>\n",
       "      <td>-118.3991</td>\n",
       "      <td>41.8</td>\n",
       "      <td>33,255</td>\n",
       "      <td>13,293</td>\n",
       "      <td>8.8</td>\n",
       "      <td>127,747</td>\n",
       "      <td>5.01</td>\n",
       "    </tr>\n",
       "    <tr>\n",
       "      <th>4</th>\n",
       "      <td>90232</td>\n",
       "      <td>$82,254</td>\n",
       "      <td>$3,472</td>\n",
       "      <td>Culver City</td>\n",
       "      <td>117</td>\n",
       "      <td>236</td>\n",
       "      <td>69</td>\n",
       "      <td>34.0168</td>\n",
       "      <td>-118.3973</td>\n",
       "      <td>42.2</td>\n",
       "      <td>16,107</td>\n",
       "      <td>7,116</td>\n",
       "      <td>7.1</td>\n",
       "      <td>122,950</td>\n",
       "      <td>3.39</td>\n",
       "    </tr>\n",
       "  </tbody>\n",
       "</table>\n",
       "</div>"
      ],
      "text/plain": [
       "  postalCode Median_Income rental price         city persons counted 2018  \\\n",
       "0      90023       $40,225       $2,201     Commerce                  490   \n",
       "1      90040       $43,585       $2,317     Commerce                  490   \n",
       "2      90066       $75,209       $3,403  Culver City                  117   \n",
       "3      90230       $79,242       $3,630  Culver City                  117   \n",
       "4      90232       $82,254       $3,472  Culver City                  117   \n",
       "\n",
       "  persons counted 2019 persons in perma housing  latitude  longitude  \\\n",
       "0                  295                       17   34.0245  -118.1975   \n",
       "1                  295                       17   33.9909  -118.1532   \n",
       "2                  236                       69   34.0030  -118.4298   \n",
       "3                  236                       69   33.9949  -118.3991   \n",
       "4                  236                       69   34.0168  -118.3973   \n",
       "\n",
       "  Median Age Population Household median lengh of residence  \\\n",
       "0       31.4     46,455    10,966                       8.0   \n",
       "1       33.2     14,121     3,605                      10.0   \n",
       "2       41.1     55,775    24,339                       7.3   \n",
       "3       41.8     33,255    13,293                       8.8   \n",
       "4       42.2     16,107     7,116                       7.1   \n",
       "\n",
       "  average house income Unemployed %  \n",
       "0               59,679         6.84  \n",
       "1               63,661         9.51  \n",
       "2              127,240         5.31  \n",
       "3              127,747         5.01  \n",
       "4              122,950         3.39  "
      ]
     },
     "execution_count": 71,
     "metadata": {},
     "output_type": "execute_result"
    }
   ],
   "source": [
    "dfinitivo.head()"
   ]
  },
  {
   "cell_type": "code",
   "execution_count": 72,
   "metadata": {},
   "outputs": [],
   "source": [
    "#This is to clear the strings\n",
    "dfinitivo['Median_Income']= dfinitivo['Median_Income'].str.replace('\\$', '', regex=True)\n",
    "dfinitivo['Median_Income']= dfinitivo['Median_Income'].str.replace(',', '', regex=True)\n",
    "dfinitivo['rental price']= dfinitivo['rental price'].str.replace('\\$', '', regex=True)\n",
    "dfinitivo['rental price']= dfinitivo['rental price'].str.replace(',', '', regex=True)\n",
    "dfinitivo['Population']= dfinitivo['Population'].str.replace(',', '', regex=True)\n",
    "dfinitivo['Household']= dfinitivo['Household'].str.replace(',', '', regex=True)\n",
    "dfinitivo['average house income']= dfinitivo['average house income'].str.replace(',', '', regex=True)"
   ]
  },
  {
   "cell_type": "code",
   "execution_count": 73,
   "metadata": {},
   "outputs": [],
   "source": [
    "dfinitivo['persons counted 2019']= dfinitivo['persons counted 2019'].str.replace(',', '', regex=True)\n",
    "dfinitivo['persons counted 2019']= dfinitivo['persons counted 2019'].str.replace('---.+', '0', regex=True)\n",
    "dfinitivo['persons counted 2019']= dfinitivo['persons counted 2019'].str.replace('-', '0', regex=True)\n",
    "\n",
    "# this is to change the types\n",
    "dfinitivo['Median_Income'] = dfinitivo['Median_Income'].astype(int)\n",
    "dfinitivo['rental price'] = dfinitivo['rental price'].astype(int)\n",
    "dfinitivo['postalCode'] = dfinitivo['postalCode'].astype(str)\n",
    "dfinitivo['latitude'] = dfinitivo['latitude'].astype(str)\n",
    "dfinitivo['longitude'] = dfinitivo['longitude'].astype(str)\n",
    "dfinitivo['persons counted 2019'] = dfinitivo['persons counted 2019'].astype(int)"
   ]
  },
  {
   "cell_type": "code",
   "execution_count": 74,
   "metadata": {},
   "outputs": [
    {
     "data": {
      "text/html": [
       "<div>\n",
       "<style scoped>\n",
       "    .dataframe tbody tr th:only-of-type {\n",
       "        vertical-align: middle;\n",
       "    }\n",
       "\n",
       "    .dataframe tbody tr th {\n",
       "        vertical-align: top;\n",
       "    }\n",
       "\n",
       "    .dataframe thead th {\n",
       "        text-align: right;\n",
       "    }\n",
       "</style>\n",
       "<table border=\"1\" class=\"dataframe\">\n",
       "  <thead>\n",
       "    <tr style=\"text-align: right;\">\n",
       "      <th></th>\n",
       "      <th>postalCode</th>\n",
       "      <th>Median_Income</th>\n",
       "      <th>rental price</th>\n",
       "      <th>city</th>\n",
       "      <th>persons counted 2018</th>\n",
       "      <th>persons counted 2019</th>\n",
       "      <th>persons in perma housing</th>\n",
       "      <th>latitude</th>\n",
       "      <th>longitude</th>\n",
       "      <th>Median Age</th>\n",
       "      <th>Population</th>\n",
       "      <th>Household</th>\n",
       "      <th>median lengh of residence</th>\n",
       "      <th>average house income</th>\n",
       "      <th>Unemployed %</th>\n",
       "    </tr>\n",
       "  </thead>\n",
       "  <tbody>\n",
       "    <tr>\n",
       "      <th>0</th>\n",
       "      <td>90023</td>\n",
       "      <td>40225</td>\n",
       "      <td>2201</td>\n",
       "      <td>Commerce</td>\n",
       "      <td>490</td>\n",
       "      <td>295</td>\n",
       "      <td>17</td>\n",
       "      <td>34.0245</td>\n",
       "      <td>-118.1975</td>\n",
       "      <td>31.4</td>\n",
       "      <td>46455</td>\n",
       "      <td>10966</td>\n",
       "      <td>8.0</td>\n",
       "      <td>59679</td>\n",
       "      <td>6.84</td>\n",
       "    </tr>\n",
       "    <tr>\n",
       "      <th>1</th>\n",
       "      <td>90040</td>\n",
       "      <td>43585</td>\n",
       "      <td>2317</td>\n",
       "      <td>Commerce</td>\n",
       "      <td>490</td>\n",
       "      <td>295</td>\n",
       "      <td>17</td>\n",
       "      <td>33.9909</td>\n",
       "      <td>-118.1532</td>\n",
       "      <td>33.2</td>\n",
       "      <td>14121</td>\n",
       "      <td>3605</td>\n",
       "      <td>10.0</td>\n",
       "      <td>63661</td>\n",
       "      <td>9.51</td>\n",
       "    </tr>\n",
       "    <tr>\n",
       "      <th>2</th>\n",
       "      <td>90066</td>\n",
       "      <td>75209</td>\n",
       "      <td>3403</td>\n",
       "      <td>Culver City</td>\n",
       "      <td>117</td>\n",
       "      <td>236</td>\n",
       "      <td>69</td>\n",
       "      <td>34.003</td>\n",
       "      <td>-118.4298</td>\n",
       "      <td>41.1</td>\n",
       "      <td>55775</td>\n",
       "      <td>24339</td>\n",
       "      <td>7.3</td>\n",
       "      <td>127240</td>\n",
       "      <td>5.31</td>\n",
       "    </tr>\n",
       "    <tr>\n",
       "      <th>3</th>\n",
       "      <td>90230</td>\n",
       "      <td>79242</td>\n",
       "      <td>3630</td>\n",
       "      <td>Culver City</td>\n",
       "      <td>117</td>\n",
       "      <td>236</td>\n",
       "      <td>69</td>\n",
       "      <td>33.9949</td>\n",
       "      <td>-118.3991</td>\n",
       "      <td>41.8</td>\n",
       "      <td>33255</td>\n",
       "      <td>13293</td>\n",
       "      <td>8.8</td>\n",
       "      <td>127747</td>\n",
       "      <td>5.01</td>\n",
       "    </tr>\n",
       "    <tr>\n",
       "      <th>4</th>\n",
       "      <td>90232</td>\n",
       "      <td>82254</td>\n",
       "      <td>3472</td>\n",
       "      <td>Culver City</td>\n",
       "      <td>117</td>\n",
       "      <td>236</td>\n",
       "      <td>69</td>\n",
       "      <td>34.0168</td>\n",
       "      <td>-118.3973</td>\n",
       "      <td>42.2</td>\n",
       "      <td>16107</td>\n",
       "      <td>7116</td>\n",
       "      <td>7.1</td>\n",
       "      <td>122950</td>\n",
       "      <td>3.39</td>\n",
       "    </tr>\n",
       "  </tbody>\n",
       "</table>\n",
       "</div>"
      ],
      "text/plain": [
       "  postalCode  Median_Income  rental price         city persons counted 2018  \\\n",
       "0      90023          40225          2201     Commerce                  490   \n",
       "1      90040          43585          2317     Commerce                  490   \n",
       "2      90066          75209          3403  Culver City                  117   \n",
       "3      90230          79242          3630  Culver City                  117   \n",
       "4      90232          82254          3472  Culver City                  117   \n",
       "\n",
       "   persons counted 2019 persons in perma housing latitude  longitude  \\\n",
       "0                   295                       17  34.0245  -118.1975   \n",
       "1                   295                       17  33.9909  -118.1532   \n",
       "2                   236                       69   34.003  -118.4298   \n",
       "3                   236                       69  33.9949  -118.3991   \n",
       "4                   236                       69  34.0168  -118.3973   \n",
       "\n",
       "  Median Age Population Household median lengh of residence  \\\n",
       "0       31.4      46455     10966                       8.0   \n",
       "1       33.2      14121      3605                      10.0   \n",
       "2       41.1      55775     24339                       7.3   \n",
       "3       41.8      33255     13293                       8.8   \n",
       "4       42.2      16107      7116                       7.1   \n",
       "\n",
       "  average house income Unemployed %  \n",
       "0                59679         6.84  \n",
       "1                63661         9.51  \n",
       "2               127240         5.31  \n",
       "3               127747         5.01  \n",
       "4               122950         3.39  "
      ]
     },
     "execution_count": 74,
     "metadata": {},
     "output_type": "execute_result"
    }
   ],
   "source": [
    "dfinitivo.head()"
   ]
  },
  {
   "cell_type": "markdown",
   "metadata": {},
   "source": [
    "### web scraping 12"
   ]
  },
  {
   "cell_type": "code",
   "execution_count": 75,
   "metadata": {},
   "outputs": [],
   "source": [
    "citiesla=soup12.find_all('td')\n",
    "citiesla=[re.findall(\"^\\D.+\", e.text) for e in citiesla]\n",
    "citiesla=list(itertools.chain(*citiesla))"
   ]
  },
  {
   "cell_type": "code",
   "execution_count": 76,
   "metadata": {},
   "outputs": [],
   "source": [
    "citiesla=citiesla[1:89]"
   ]
  },
  {
   "cell_type": "code",
   "execution_count": 77,
   "metadata": {},
   "outputs": [],
   "source": [
    "crime=soup12.find_all('td')\n",
    "crime=[re.findall(\"\\d.*\", e.text) for e in crime]\n",
    "crime=list(itertools.chain(*crime))\n",
    "crime=crime[5:]"
   ]
  },
  {
   "cell_type": "code",
   "execution_count": 78,
   "metadata": {},
   "outputs": [],
   "source": [
    "# this is to get the values by position\n",
    "crimesla=[]\n",
    "count= 0\n",
    "for e in crime:\n",
    "    try:\n",
    "        crimesla.append(crime[count])            \n",
    "    except:\n",
    "        continue\n",
    "    count=count+5"
   ]
  },
  {
   "cell_type": "code",
   "execution_count": 79,
   "metadata": {},
   "outputs": [],
   "source": [
    "crimesla=crimesla[:88]"
   ]
  },
  {
   "cell_type": "code",
   "execution_count": 80,
   "metadata": {},
   "outputs": [],
   "source": [
    "dfcrime=pd.DataFrame({\"city\":citiesla, \"crimes\":crimesla})"
   ]
  },
  {
   "cell_type": "code",
   "execution_count": 81,
   "metadata": {},
   "outputs": [],
   "source": [
    "dfinitivo= dfinitivo.merge(dfcrime, on= 'city')"
   ]
  },
  {
   "cell_type": "code",
   "execution_count": 82,
   "metadata": {},
   "outputs": [],
   "source": [
    "dfinitivo['persons in perma housing']= dfinitivo['persons in perma housing'].str.replace('-.+', '0', regex=True)\n",
    "dfinitivo['persons in perma housing']= dfinitivo['persons in perma housing'].str.replace('-', '0', regex=True)\n",
    "dfinitivo['crimes']= dfinitivo['crimes'].str.replace(',', '', regex=True)"
   ]
  },
  {
   "cell_type": "code",
   "execution_count": 83,
   "metadata": {},
   "outputs": [
    {
     "data": {
      "text/html": [
       "<div>\n",
       "<style scoped>\n",
       "    .dataframe tbody tr th:only-of-type {\n",
       "        vertical-align: middle;\n",
       "    }\n",
       "\n",
       "    .dataframe tbody tr th {\n",
       "        vertical-align: top;\n",
       "    }\n",
       "\n",
       "    .dataframe thead th {\n",
       "        text-align: right;\n",
       "    }\n",
       "</style>\n",
       "<table border=\"1\" class=\"dataframe\">\n",
       "  <thead>\n",
       "    <tr style=\"text-align: right;\">\n",
       "      <th></th>\n",
       "      <th>postalCode</th>\n",
       "      <th>Median_Income</th>\n",
       "      <th>rental price</th>\n",
       "      <th>city</th>\n",
       "      <th>persons counted 2018</th>\n",
       "      <th>persons counted 2019</th>\n",
       "      <th>persons in perma housing</th>\n",
       "      <th>latitude</th>\n",
       "      <th>longitude</th>\n",
       "      <th>Median Age</th>\n",
       "      <th>Population</th>\n",
       "      <th>Household</th>\n",
       "      <th>median lengh of residence</th>\n",
       "      <th>average house income</th>\n",
       "      <th>Unemployed %</th>\n",
       "      <th>crimes</th>\n",
       "    </tr>\n",
       "  </thead>\n",
       "  <tbody>\n",
       "    <tr>\n",
       "      <th>0</th>\n",
       "      <td>90023</td>\n",
       "      <td>40225</td>\n",
       "      <td>2201</td>\n",
       "      <td>Commerce</td>\n",
       "      <td>490</td>\n",
       "      <td>295</td>\n",
       "      <td>17</td>\n",
       "      <td>34.0245</td>\n",
       "      <td>-118.1975</td>\n",
       "      <td>31.4</td>\n",
       "      <td>46455</td>\n",
       "      <td>10966</td>\n",
       "      <td>8.0</td>\n",
       "      <td>59679</td>\n",
       "      <td>6.84</td>\n",
       "      <td>128</td>\n",
       "    </tr>\n",
       "    <tr>\n",
       "      <th>1</th>\n",
       "      <td>90040</td>\n",
       "      <td>43585</td>\n",
       "      <td>2317</td>\n",
       "      <td>Commerce</td>\n",
       "      <td>490</td>\n",
       "      <td>295</td>\n",
       "      <td>17</td>\n",
       "      <td>33.9909</td>\n",
       "      <td>-118.1532</td>\n",
       "      <td>33.2</td>\n",
       "      <td>14121</td>\n",
       "      <td>3605</td>\n",
       "      <td>10.0</td>\n",
       "      <td>63661</td>\n",
       "      <td>9.51</td>\n",
       "      <td>128</td>\n",
       "    </tr>\n",
       "    <tr>\n",
       "      <th>2</th>\n",
       "      <td>90066</td>\n",
       "      <td>75209</td>\n",
       "      <td>3403</td>\n",
       "      <td>Culver City</td>\n",
       "      <td>117</td>\n",
       "      <td>236</td>\n",
       "      <td>69</td>\n",
       "      <td>34.003</td>\n",
       "      <td>-118.4298</td>\n",
       "      <td>41.1</td>\n",
       "      <td>55775</td>\n",
       "      <td>24339</td>\n",
       "      <td>7.3</td>\n",
       "      <td>127240</td>\n",
       "      <td>5.31</td>\n",
       "      <td>188</td>\n",
       "    </tr>\n",
       "    <tr>\n",
       "      <th>3</th>\n",
       "      <td>90230</td>\n",
       "      <td>79242</td>\n",
       "      <td>3630</td>\n",
       "      <td>Culver City</td>\n",
       "      <td>117</td>\n",
       "      <td>236</td>\n",
       "      <td>69</td>\n",
       "      <td>33.9949</td>\n",
       "      <td>-118.3991</td>\n",
       "      <td>41.8</td>\n",
       "      <td>33255</td>\n",
       "      <td>13293</td>\n",
       "      <td>8.8</td>\n",
       "      <td>127747</td>\n",
       "      <td>5.01</td>\n",
       "      <td>188</td>\n",
       "    </tr>\n",
       "    <tr>\n",
       "      <th>4</th>\n",
       "      <td>90232</td>\n",
       "      <td>82254</td>\n",
       "      <td>3472</td>\n",
       "      <td>Culver City</td>\n",
       "      <td>117</td>\n",
       "      <td>236</td>\n",
       "      <td>69</td>\n",
       "      <td>34.0168</td>\n",
       "      <td>-118.3973</td>\n",
       "      <td>42.2</td>\n",
       "      <td>16107</td>\n",
       "      <td>7116</td>\n",
       "      <td>7.1</td>\n",
       "      <td>122950</td>\n",
       "      <td>3.39</td>\n",
       "      <td>188</td>\n",
       "    </tr>\n",
       "  </tbody>\n",
       "</table>\n",
       "</div>"
      ],
      "text/plain": [
       "  postalCode  Median_Income  rental price         city persons counted 2018  \\\n",
       "0      90023          40225          2201     Commerce                  490   \n",
       "1      90040          43585          2317     Commerce                  490   \n",
       "2      90066          75209          3403  Culver City                  117   \n",
       "3      90230          79242          3630  Culver City                  117   \n",
       "4      90232          82254          3472  Culver City                  117   \n",
       "\n",
       "   persons counted 2019 persons in perma housing latitude  longitude  \\\n",
       "0                   295                       17  34.0245  -118.1975   \n",
       "1                   295                       17  33.9909  -118.1532   \n",
       "2                   236                       69   34.003  -118.4298   \n",
       "3                   236                       69  33.9949  -118.3991   \n",
       "4                   236                       69  34.0168  -118.3973   \n",
       "\n",
       "  Median Age Population Household median lengh of residence  \\\n",
       "0       31.4      46455     10966                       8.0   \n",
       "1       33.2      14121      3605                      10.0   \n",
       "2       41.1      55775     24339                       7.3   \n",
       "3       41.8      33255     13293                       8.8   \n",
       "4       42.2      16107      7116                       7.1   \n",
       "\n",
       "  average house income Unemployed % crimes  \n",
       "0                59679         6.84    128  \n",
       "1                63661         9.51    128  \n",
       "2               127240         5.31    188  \n",
       "3               127747         5.01    188  \n",
       "4               122950         3.39    188  "
      ]
     },
     "execution_count": 83,
     "metadata": {},
     "output_type": "execute_result"
    }
   ],
   "source": [
    "dfinitivo.head()"
   ]
  },
  {
   "cell_type": "code",
   "execution_count": 84,
   "metadata": {},
   "outputs": [],
   "source": [
    "# to csv\n",
    "dfinitivo.to_csv('./Data/dfinitivo.csv')"
   ]
  },
  {
   "cell_type": "code",
   "execution_count": null,
   "metadata": {},
   "outputs": [],
   "source": []
  }
 ],
 "metadata": {
  "kernelspec": {
   "display_name": "Python 3",
   "language": "python",
   "name": "python3"
  },
  "language_info": {
   "codemirror_mode": {
    "name": "ipython",
    "version": 3
   },
   "file_extension": ".py",
   "mimetype": "text/x-python",
   "name": "python",
   "nbconvert_exporter": "python",
   "pygments_lexer": "ipython3",
   "version": "3.7.3"
  }
 },
 "nbformat": 4,
 "nbformat_minor": 2
}
